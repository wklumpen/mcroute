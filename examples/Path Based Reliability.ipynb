{
 "cells": [
  {
   "cell_type": "code",
   "execution_count": 19,
   "id": "systematic-silence",
   "metadata": {},
   "outputs": [],
   "source": [
    "import sys\n",
    "import math\n",
    "import pandas as pd\n",
    "import altair as alt\n",
    "import networkx as nx\n",
    "import numpy as np\n",
    "\n",
    "sys.path.append(r\"..\")\n",
    "\n",
    "from mcroute import Network, StateSpace\n",
    "import mcroute.matrix as matrix\n",
    "import mcroute.vector as vector"
   ]
  },
  {
   "cell_type": "code",
   "execution_count": 20,
   "id": "israeli-following",
   "metadata": {},
   "outputs": [],
   "source": [
    "nodes = ['A', 'B', 'C', 'D', 'E', 'F', 'G']\n",
    "edges = pd.read_csv('data/test_edges.csv')\n",
    "ss = StateSpace.from_range(-10, 60)\n",
    "I = matrix.identity(ss)\n",
    "N = Network(ss)\n",
    "for node in nodes:\n",
    "    N.add_node(node, I)\n",
    "\n",
    "for idx, edge in edges.iterrows():\n",
    "    mx = matrix.truncnorm(ss, mean=edge['mean'], std=edge['std'])\n",
    "    N.add_edge(edge['start'], edge['end'], mx, data={\n",
    "        'tt': edge['mean'],\n",
    "        'ttsd': edge['mean'] + 1.5*edge['std'],\n",
    "        'tt2sd': edge['mean'] + 2*edge['std']\n",
    "    })\n"
   ]
  },
  {
   "cell_type": "code",
   "execution_count": 21,
   "id": "numerous-edward",
   "metadata": {},
   "outputs": [
    {
     "data": {
      "text/plain": [
       "['A', 'C', 'D', 'E', 'B']"
      ]
     },
     "execution_count": 21,
     "metadata": {},
     "output_type": "execute_result"
    }
   ],
   "source": [
    "path = nx.shortest_path(N, source='A', target='B', weight='tt')\n",
    "path"
   ]
  },
  {
   "cell_type": "code",
   "execution_count": 22,
   "id": "immediate-lottery",
   "metadata": {},
   "outputs": [
    {
     "data": {
      "text/plain": [
       "['A', 'C', 'D', 'E', 'B']"
      ]
     },
     "execution_count": 22,
     "metadata": {},
     "output_type": "execute_result"
    }
   ],
   "source": [
    "path = nx.shortest_path(N, source='A', target='B', weight='ttsd')\n",
    "path"
   ]
  },
  {
   "cell_type": "code",
   "execution_count": 23,
   "id": "renewable-rescue",
   "metadata": {},
   "outputs": [
    {
     "data": {
      "text/plain": [
       "['A', 'B']"
      ]
     },
     "execution_count": 23,
     "metadata": {},
     "output_type": "execute_result"
    }
   ],
   "source": [
    "path = nx.shortest_path(N, source='A', target='B', weight='tt2sd')\n",
    "path"
   ]
  },
  {
   "cell_type": "code",
   "execution_count": 26,
   "id": "strategic-mainland",
   "metadata": {},
   "outputs": [
    {
     "data": {
      "text/html": [
       "<style  type=\"text/css\" >\n",
       "</style><table id=\"T_cafda_\" ><thead>    <tr>        <th class=\"col_heading level0 col0\" >Path</th>        <th class=\"col_heading level0 col1\" >Mean</th>        <th class=\"col_heading level0 col2\" >Std</th>        <th class=\"col_heading level0 col3\" >p95</th>    </tr></thead><tbody>\n",
       "                <tr>\n",
       "                                <td id=\"T_cafda_row0_col0\" class=\"data row0 col0\" >ACDEB</td>\n",
       "                        <td id=\"T_cafda_row0_col1\" class=\"data row0 col1\" >27.000000</td>\n",
       "                        <td id=\"T_cafda_row0_col2\" class=\"data row0 col2\" >3.980000</td>\n",
       "                        <td id=\"T_cafda_row0_col3\" class=\"data row0 col3\" >35.000000</td>\n",
       "            </tr>\n",
       "            <tr>\n",
       "                                <td id=\"T_cafda_row1_col0\" class=\"data row1 col0\" >AFGB</td>\n",
       "                        <td id=\"T_cafda_row1_col1\" class=\"data row1 col1\" >28.500000</td>\n",
       "                        <td id=\"T_cafda_row1_col2\" class=\"data row1 col2\" >3.500000</td>\n",
       "                        <td id=\"T_cafda_row1_col3\" class=\"data row1 col3\" >35.000000</td>\n",
       "            </tr>\n",
       "            <tr>\n",
       "                                <td id=\"T_cafda_row2_col0\" class=\"data row2 col0\" >AFGDEB</td>\n",
       "                        <td id=\"T_cafda_row2_col1\" class=\"data row2 col1\" >30.500000</td>\n",
       "                        <td id=\"T_cafda_row2_col2\" class=\"data row2 col2\" >5.350000</td>\n",
       "                        <td id=\"T_cafda_row2_col3\" class=\"data row2 col3\" >40.000000</td>\n",
       "            </tr>\n",
       "            <tr>\n",
       "                                <td id=\"T_cafda_row3_col0\" class=\"data row3 col0\" >AB</td>\n",
       "                        <td id=\"T_cafda_row3_col1\" class=\"data row3 col1\" >30.500000</td>\n",
       "                        <td id=\"T_cafda_row3_col2\" class=\"data row3 col2\" >4.010000</td>\n",
       "                        <td id=\"T_cafda_row3_col3\" class=\"data row3 col3\" >38.000000</td>\n",
       "            </tr>\n",
       "            <tr>\n",
       "                                <td id=\"T_cafda_row4_col0\" class=\"data row4 col0\" >ACFGB</td>\n",
       "                        <td id=\"T_cafda_row4_col1\" class=\"data row4 col1\" >31.000000</td>\n",
       "                        <td id=\"T_cafda_row4_col2\" class=\"data row4 col2\" >3.550000</td>\n",
       "                        <td id=\"T_cafda_row4_col3\" class=\"data row4 col3\" >38.000000</td>\n",
       "            </tr>\n",
       "            <tr>\n",
       "                                <td id=\"T_cafda_row5_col0\" class=\"data row5 col0\" >ACFGDEB</td>\n",
       "                        <td id=\"T_cafda_row5_col1\" class=\"data row5 col1\" >33.000000</td>\n",
       "                        <td id=\"T_cafda_row5_col2\" class=\"data row5 col2\" >5.390000</td>\n",
       "                        <td id=\"T_cafda_row5_col3\" class=\"data row5 col3\" >43.000000</td>\n",
       "            </tr>\n",
       "    </tbody></table>"
      ],
      "text/plain": [
       "<pandas.io.formats.style.Styler at 0x1e79c45f730>"
      ]
     },
     "execution_count": 26,
     "metadata": {},
     "output_type": "execute_result"
    }
   ],
   "source": [
    "paths = nx.all_simple_paths(N, source='A', target='B')\n",
    "p0 = vector.unit(ss, '0')\n",
    "stats = []\n",
    "thres = 0.95\n",
    "for path in paths:\n",
    "    sm = 0\n",
    "    vecs = N.traverse(path, p0)\n",
    "    average = np.average(ss.values, weights=vecs[-1])\n",
    "    # Fast and numerically precise:\n",
    "    std = math.sqrt(np.average((ss.values-average)**2, weights=vecs[-1]))\n",
    "    for i in range(len(vecs[-1])):\n",
    "        if sm >= thres:\n",
    "            top = ss.values[i]\n",
    "            break\n",
    "        sm += vecs[-1][i]\n",
    "    stats.append([''.join(path), round(average,2), round(std, 2), top])\n",
    "df = pd.DataFrame(stats, columns=['Path', 'Mean', 'Std', 'p95'])\n",
    "df.sort_values(by='Mean').style.hide_index()"
   ]
  },
  {
   "cell_type": "code",
   "execution_count": 28,
   "id": "serial-ethernet",
   "metadata": {},
   "outputs": [
    {
     "data": {
      "text/html": [
       "\n",
       "<div id=\"altair-viz-e54c48170d8a4887a3958174e65a4d9d\"></div>\n",
       "<script type=\"text/javascript\">\n",
       "  (function(spec, embedOpt){\n",
       "    let outputDiv = document.currentScript.previousElementSibling;\n",
       "    if (outputDiv.id !== \"altair-viz-e54c48170d8a4887a3958174e65a4d9d\") {\n",
       "      outputDiv = document.getElementById(\"altair-viz-e54c48170d8a4887a3958174e65a4d9d\");\n",
       "    }\n",
       "    const paths = {\n",
       "      \"vega\": \"https://cdn.jsdelivr.net/npm//vega@5?noext\",\n",
       "      \"vega-lib\": \"https://cdn.jsdelivr.net/npm//vega-lib?noext\",\n",
       "      \"vega-lite\": \"https://cdn.jsdelivr.net/npm//vega-lite@4.8.1?noext\",\n",
       "      \"vega-embed\": \"https://cdn.jsdelivr.net/npm//vega-embed@6?noext\",\n",
       "    };\n",
       "\n",
       "    function loadScript(lib) {\n",
       "      return new Promise(function(resolve, reject) {\n",
       "        var s = document.createElement('script');\n",
       "        s.src = paths[lib];\n",
       "        s.async = true;\n",
       "        s.onload = () => resolve(paths[lib]);\n",
       "        s.onerror = () => reject(`Error loading script: ${paths[lib]}`);\n",
       "        document.getElementsByTagName(\"head\")[0].appendChild(s);\n",
       "      });\n",
       "    }\n",
       "\n",
       "    function showError(err) {\n",
       "      outputDiv.innerHTML = `<div class=\"error\" style=\"color:red;\">${err}</div>`;\n",
       "      throw err;\n",
       "    }\n",
       "\n",
       "    function displayChart(vegaEmbed) {\n",
       "      vegaEmbed(outputDiv, spec, embedOpt)\n",
       "        .catch(err => showError(`Javascript Error: ${err.message}<br>This usually means there's a typo in your chart specification. See the javascript console for the full traceback.`));\n",
       "    }\n",
       "\n",
       "    if(typeof define === \"function\" && define.amd) {\n",
       "      requirejs.config({paths});\n",
       "      require([\"vega-embed\"], displayChart, err => showError(`Error loading script: ${err.message}`));\n",
       "    } else if (typeof vegaEmbed === \"function\") {\n",
       "      displayChart(vegaEmbed);\n",
       "    } else {\n",
       "      loadScript(\"vega\")\n",
       "        .then(() => loadScript(\"vega-lite\"))\n",
       "        .then(() => loadScript(\"vega-embed\"))\n",
       "        .catch(showError)\n",
       "        .then(() => displayChart(vegaEmbed));\n",
       "    }\n",
       "  })({\"config\": {\"view\": {\"continuousWidth\": 400, \"continuousHeight\": 300}}, \"data\": {\"name\": \"data-ac5590a472602dcd9d916d20bb8e9b74\"}, \"mark\": \"line\", \"encoding\": {\"x\": {\"type\": \"ordinal\", \"field\": \"index\"}, \"y\": {\"type\": \"quantitative\", \"field\": \"prob\"}}, \"$schema\": \"https://vega.github.io/schema/vega-lite/v4.8.1.json\", \"datasets\": {\"data-ac5590a472602dcd9d916d20bb8e9b74\": [{\"index\": 0, \"prob\": 0.0}, {\"index\": 1, \"prob\": 8.461428222523306e-23}, {\"index\": 2, \"prob\": 9.572173722868669e-22}, {\"index\": 3, \"prob\": 1.017518208379164e-20}, {\"index\": 4, \"prob\": 1.0163420700405533e-19}, {\"index\": 5, \"prob\": 9.539048969521024e-19}, {\"index\": 6, \"prob\": 8.412771084655764e-18}, {\"index\": 7, \"prob\": 6.97177283242215e-17}, {\"index\": 8, \"prob\": 5.428987942807493e-16}, {\"index\": 9, \"prob\": 3.9725313783513884e-15}, {\"index\": 10, \"prob\": 2.7314289293330282e-14}, {\"index\": 11, \"prob\": 1.7647689913809666e-13}, {\"index\": 12, \"prob\": 1.0714267280186294e-12}, {\"index\": 13, \"prob\": 6.11244523413196e-12}, {\"index\": 14, \"prob\": 3.2767748060573085e-11}, {\"index\": 15, \"prob\": 1.6506633668330308e-10}, {\"index\": 16, \"prob\": 7.813613025158006e-10}, {\"index\": 17, \"prob\": 3.4755848088639165e-09}, {\"index\": 18, \"prob\": 1.4527390011986072e-08}, {\"index\": 19, \"prob\": 5.706004269899931e-08}, {\"index\": 20, \"prob\": 2.106019667143063e-07}, {\"index\": 21, \"prob\": 7.304316706895099e-07}, {\"index\": 22, \"prob\": 2.3805898821613505e-06}, {\"index\": 23, \"prob\": 7.290852650204348e-06}, {\"index\": 24, \"prob\": 2.098271605818546e-05}, {\"index\": 25, \"prob\": 5.674604336768391e-05}, {\"index\": 26, \"prob\": 0.00014421179383472126}, {\"index\": 27, \"prob\": 0.0003443959633552409}, {\"index\": 28, \"prob\": 0.0007728729892393274}, {\"index\": 29, \"prob\": 0.0016298652034244618}, {\"index\": 30, \"prob\": 0.003229902090721577}, {\"index\": 31, \"prob\": 0.006014807329268563}, {\"index\": 32, \"prob\": 0.010525659293134499}, {\"index\": 33, \"prob\": 0.01730902491563789}, {\"index\": 34, \"prob\": 0.026748044405040985}, {\"index\": 35, \"prob\": 0.03884257239799728}, {\"index\": 36, \"prob\": 0.05300548026460172}, {\"index\": 37, \"prob\": 0.06797209844541113}, {\"index\": 38, \"prob\": 0.08191018634911867}, {\"index\": 39, \"prob\": 0.09275613559108942}, {\"index\": 40, \"prob\": 0.0987063256829237}, {\"index\": 41, \"prob\": 0.0987063256829237}, {\"index\": 42, \"prob\": 0.09275613559108942}, {\"index\": 43, \"prob\": 0.08191018634911862}, {\"index\": 44, \"prob\": 0.06797209844541119}, {\"index\": 45, \"prob\": 0.05300548026460172}, {\"index\": 46, \"prob\": 0.038842572397997266}, {\"index\": 47, \"prob\": 0.02674804440504097}, {\"index\": 48, \"prob\": 0.017309024915637905}, {\"index\": 49, \"prob\": 0.010525659293134537}, {\"index\": 50, \"prob\": 0.006014807329268512}, {\"index\": 51, \"prob\": 0.0032299020907216036}, {\"index\": 52, \"prob\": 0.001629865203424452}, {\"index\": 53, \"prob\": 0.0007728729892393371}, {\"index\": 54, \"prob\": 0.00034439596335522626}, {\"index\": 55, \"prob\": 0.00014421179383472538}, {\"index\": 56, \"prob\": 5.674604336769473e-05}, {\"index\": 57, \"prob\": 2.0982716058215445e-05}, {\"index\": 58, \"prob\": 7.290852650165824e-06}, {\"index\": 59, \"prob\": 2.3805898822226723e-06}, {\"index\": 60, \"prob\": 7.304316705925018e-07}, {\"index\": 61, \"prob\": 2.1060196675470877e-07}, {\"index\": 62, \"prob\": 5.706004269079301e-08}, {\"index\": 63, \"prob\": 1.4527390068685975e-08}, {\"index\": 64, \"prob\": 3.475584708922952e-09}, {\"index\": 65, \"prob\": 7.813613089879823e-10}, {\"index\": 66, \"prob\": 1.650664049890338e-10}, {\"index\": 67, \"prob\": 3.276767746029918e-11}, {\"index\": 68, \"prob\": 6.112443884376262e-12}, {\"index\": 69, \"prob\": 1.2798651027878805e-12}]}}, {\"mode\": \"vega-lite\"});\n",
       "</script>"
      ],
      "text/plain": [
       "alt.Chart(...)"
      ]
     },
     "execution_count": 28,
     "metadata": {},
     "output_type": "execute_result"
    }
   ],
   "source": [
    "df = pd.DataFrame(vecs[-1], columns=['prob']).reset_index()\n",
    "alt.Chart(df).mark_line().encode(\n",
    "    alt.X('index:O'),\n",
    "    alt.Y('prob:Q')\n",
    ")"
   ]
  },
  {
   "cell_type": "code",
   "execution_count": 8,
   "id": "standing-sydney",
   "metadata": {},
   "outputs": [
    {
     "name": "stdout",
     "output_type": "stream",
     "text": [
      "-10.0\n"
     ]
    }
   ],
   "source": [
    "for i in range(len(vecs[-1])):\n",
    "    if sm >= thres:\n",
    "        print(ss.values[i])\n",
    "        break\n",
    "    sm += vecs[-1][i]"
   ]
  },
  {
   "cell_type": "code",
   "execution_count": 3,
   "id": "acoustic-perspective",
   "metadata": {},
   "outputs": [
    {
     "name": "stdout",
     "output_type": "stream",
     "text": [
      "[[-0.75  0.45  0.3 ]\n",
      " [ 0.13 -0.67  0.64]\n",
      " [ 0.2   0.6  -0.8 ]]\n",
      "[1. 1. 1.]\n",
      "[[-0.75  0.13  0.2 ]\n",
      " [ 0.45 -0.67  0.6 ]\n",
      " [ 0.3   0.64 -0.8 ]\n",
      " [ 1.    1.    1.  ]]\n",
      "[0. 0. 0. 1.]\n"
     ]
    },
    {
     "data": {
      "text/plain": [
       "array([0.16298395, 0.44067177, 0.39569553])"
      ]
     },
     "execution_count": 3,
     "metadata": {},
     "output_type": "execute_result"
    }
   ],
   "source": []
  },
  {
   "cell_type": "code",
   "execution_count": null,
   "id": "burning-crown",
   "metadata": {},
   "outputs": [],
   "source": []
  }
 ],
 "metadata": {
  "kernelspec": {
   "display_name": "Python 3",
   "language": "python",
   "name": "python3"
  },
  "language_info": {
   "codemirror_mode": {
    "name": "ipython",
    "version": 3
   },
   "file_extension": ".py",
   "mimetype": "text/x-python",
   "name": "python",
   "nbconvert_exporter": "python",
   "pygments_lexer": "ipython3",
   "version": "3.9.2"
  }
 },
 "nbformat": 4,
 "nbformat_minor": 5
}
